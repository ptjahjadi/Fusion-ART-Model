{
 "cells": [
  {
   "cell_type": "code",
   "execution_count": 37,
   "metadata": {},
   "outputs": [
    {
     "name": "stdout",
     "output_type": "stream",
     "text": [
      "Code: 0 {'F2': 0, 'weights': [[1.0, 1.0, 1.0], [1.0, 1.0], [1.0, 1.0]]}\n",
      "-----------------------------------------\n",
      "F1: [[0.0, 0.0, 0.0], [0.0, 0.0], [0.0, 0.0]]\n"
     ]
    }
   ],
   "source": [
    "from fusionART import *\n",
    "import timeit\n",
    "\n",
    "fa = FusionART(numspace=3,lengths=[3,2,2],beta=[0.9,0.9,0.9],alpha=[0.2,0.2,0.2],gamma=[0.1,0.1,0.1],rho=[0,0,0])\n",
    "fa.displayNetwork()"
   ]
  },
  {
   "cell_type": "markdown",
   "metadata": {},
   "source": [
    "\"a FusionART object can be created with by specifying the number of F1 fields (numspace), length of each field (lengths), beta, alpha, gamma, and rho parameters for every field.\""
   ]
  },
  {
   "cell_type": "markdown",
   "metadata": {},
   "source": [
    "\"setActivityF1 method is to provide the input to every F1 field of fa. It will store the value to activityF1 property of fa\" "
   ]
  },
  {
   "cell_type": "markdown",
   "metadata": {},
   "source": [
    "\"resonance search (resSearch) is to select a node in F2. In this case, J is the index of the selected node in F2 (let's ignore the mtrack argument for a while). The node selected can uncommitted which mean it failed to find a matching code in F2. It's checked with uncommitted method. Once the node J is selected, the input vectors in F1 can be learned to associate with J with autoLearn method. The structure of the network can be shown by displayNetwork method.\" "
   ]
  },
  {
   "cell_type": "code",
   "execution_count": 41,
   "metadata": {},
   "outputs": [
    {
     "name": "stdout",
     "output_type": "stream",
     "text": [
      "set ActivityF1 to  [[1.0, 0, 1.0], [0, 1.0], [0.6, 0.4]]\n",
      "resonance search: \n",
      "selected  0\n",
      "Code: 0 {'F2': 0.25757575757575757, 'weights': [[1.0, 0.0, 1.0], [0.0, 1.0], [0.6, 0.4]]}\n",
      "Code: 1 {'F2': 0.1534090909090909, 'weights': [[1, 1, 1], [1, 1], [1, 1]]}\n",
      "-----------------------------------------\n",
      "F1: [[1.0, 0, 1.0], [0, 1.0], [0.6, 0.4]]\n",
      "Time:  0.8626000001186185\n"
     ]
    }
   ],
   "source": [
    "start = timeit.default_timer()\n",
    "\n",
    "fa.setActivityF1([[1.0,0,1.0],[0,1.0],[0.6,0.4]])\n",
    "print(\"set ActivityF1 to \", fa.activityF1)\n",
    "\n",
    "\n",
    "print(\"resonance search: \")\n",
    "J = fa.resSearch(mtrack=[0])\n",
    "print(\"selected \", J)\n",
    "if fa.uncommitted(J):\n",
    "\tprint ('uncommitted')\n",
    "fa.autoLearn(J)\n",
    "fa.displayNetwork()\n",
    "\n",
    "stop = timeit.default_timer()\n",
    "\n",
    "print('Time: ', (stop - start) * 1000)"
   ]
  },
  {
   "cell_type": "code",
   "execution_count": 6,
   "metadata": {},
   "outputs": [
    {
     "name": "stdout",
     "output_type": "stream",
     "text": [
      "set ActivityF1 to  [[0, 1.0, 0], [1.0, 0], [0.4, 0.6]]\n",
      "resonance search: \n",
      "selected  1\n",
      "Code: 0 {'F2': 0.39999999999999997, 'weights': [[1.0, 0.0, 1.0], [0.0, 1.0], [0.6, 0.4]]}\n",
      "Code: 1 {'F2': 1.25, 'weights': [[0.0, 1.0, 0.0], [1.0, 0.0], [0.4, 0.6]]}\n",
      "Code: 2 {'F2': 0.6107954545454546, 'weights': [[1, 1, 1], [1, 1], [1, 1]]}\n",
      "-----------------------------------------\n",
      "F1: [[0, 1.0, 0], [1.0, 0], [0.4, 0.6]]\n",
      "Time:  1.461900000094829\n"
     ]
    }
   ],
   "source": [
    "start = timeit.default_timer()\n",
    "\n",
    "fa.setActivityF1([[0,1.0,0],[1.0,0],[0.4,0.6]])\n",
    "print(\"set ActivityF1 to \", fa.activityF1)\n",
    "print(\"resonance search: \")\n",
    "J = fa.resSearch(mtrack=[0])\n",
    "print(\"selected \", J)\n",
    "if fa.uncommitted(J):\n",
    "\tprint('uncommitted')\n",
    "fa.autoLearn(J)\n",
    "fa.displayNetwork()\n",
    "\n",
    "stop = timeit.default_timer()\n",
    "\n",
    "print('Time: ', (stop - start) * 1000)\n",
    "\n"
   ]
  },
  {
   "cell_type": "markdown",
   "metadata": {},
   "source": [
    "\"Different input patterns can be given subsequently to retrieve nodes or to be stored in the network as shown\""
   ]
  },
  {
   "cell_type": "code",
   "execution_count": 6,
   "metadata": {},
   "outputs": [
    {
     "name": "stdout",
     "output_type": "stream",
     "text": [
      "\n",
      "set ActivityF1 to  [[0.3, 0.7, 0.2], [0, 0], [0.5, 0.5]]\n",
      "resonance search: \n",
      "selected  0\n",
      "Code: 0 {'F2': 0.6419790104947526, 'weights': [[0.475, 0.0, 0.4], [0.0, 0.25], [0.525, 0.4]]}\n",
      "Code: 1 {'F2': 0.4602272727272727, 'weights': [[1, 1, 1], [1, 1], [1, 1]]}\n",
      "-----------------------------------------\n",
      "F1: [[0.3, 0.7, 0.2], [0, 0], [0.5, 0.5]]\n",
      "Time:  1.2940000000014606\n"
     ]
    }
   ],
   "source": [
    "start = timeit.default_timer()\n",
    "print(\"\")\n",
    "fa.setActivityF1([[0.3, 0.7, 0.2],[0,0],[0.5,0.5]])\n",
    "print(\"set ActivityF1 to \", fa.activityF1)\n",
    "print(\"resonance search: \")\n",
    "J = fa.resSearch(mtrack=[0])\n",
    "print(\"selected \", J)\n",
    "if fa.uncommitted(J):\n",
    "\tprint('uncommitted')\n",
    "fa.autoLearn(J)\n",
    "fa.displayNetwork()\n",
    "\n",
    "stop = timeit.default_timer()\n",
    "\n",
    "print('Time: ', (stop - start) * 1000)"
   ]
  },
  {
   "cell_type": "code",
   "execution_count": 5,
   "metadata": {},
   "outputs": [
    {
     "name": "stdout",
     "output_type": "stream",
     "text": [
      "\n",
      "set ActivityF1 to  [[0.5, 0.5, 0.5], [0.5, 0.5], [0.5, 0.5]]\n",
      "resonance search: \n",
      "selected  0\n",
      "Code: 0 {'F2': 0.9742091802396016, 'weights': [[0.625, 0.0, 0.625], [0.0, 0.625], [0.525, 0.4]]}\n",
      "Code: 1 {'F2': 0.6889204545454546, 'weights': [[1, 1, 1], [1, 1], [1, 1]]}\n",
      "-----------------------------------------\n",
      "F1: [[0.5, 0.5, 0.5], [0.5, 0.5], [0.5, 0.5]]\n",
      "Time:  0.8675999999994133\n"
     ]
    }
   ],
   "source": [
    "start = timeit.default_timer()\n",
    "print(\"\")\n",
    "fa.setActivityF1([[0.5,0.5,0.5],[0.5,0.5],[0.5,0.5]])\n",
    "print(\"set ActivityF1 to \", fa.activityF1)\n",
    "print(\"resonance search: \")\n",
    "J = fa.resSearch(mtrack=[0])\n",
    "print(\"selected \", J)\n",
    "if fa.uncommitted(J):\n",
    "\tprint('uncommitted')\n",
    "fa.autoLearn(J)\n",
    "fa.displayNetwork()\n",
    "\n",
    "stop = timeit.default_timer()\n",
    "\n",
    "print('Time: ', (stop - start) * 1000)"
   ]
  },
  {
   "cell_type": "code",
   "execution_count": 6,
   "metadata": {},
   "outputs": [
    {
     "name": "stdout",
     "output_type": "stream",
     "text": [
      "\n",
      "set ActivityF1 to  [[0, 0, 0], [0, 0], [0, 0]]\n",
      "resonance search: \n",
      "selected  0\n",
      "Code: 0 {'F2': 0.0, 'weights': [[0.125, 0.0, 0.125], [0.0, 0.125], [0.075, 0.05]]}\n",
      "Code: 1 {'F2': 0.0, 'weights': [[1, 1, 1], [1, 1], [1, 1]]}\n",
      "-----------------------------------------\n",
      "F1: [[0, 0, 0], [0, 0], [0, 0]]\n",
      "Time:  1.425699999998642\n"
     ]
    }
   ],
   "source": [
    "start = timeit.default_timer()\n",
    "print(\"\")\n",
    "fa.setActivityF1([[0,0,0],[0,0],[0,0]])\n",
    "print(\"set ActivityF1 to \", fa.activityF1)\n",
    "print(\"resonance search: \")\n",
    "J = fa.resSearch(mtrack=[0])\n",
    "print(\"selected \", J)\n",
    "if fa.uncommitted(J):\n",
    "\tprint('uncommitted')\n",
    "fa.autoLearn(J)\n",
    "fa.displayNetwork()\n",
    "\n",
    "stop = timeit.default_timer()\n",
    "\n",
    "print('Time: ', (stop - start) * 1000)"
   ]
  },
  {
   "cell_type": "code",
   "execution_count": 8,
   "metadata": {},
   "outputs": [],
   "source": [
    "from statistics import mean\n",
    "iter1_f2 = [0.6108, 0.5636, 0.844, 0]\n",
    "iter2_f2 = [1.25, 0.642, 0.974, 0]\n",
    "iter1_f2avg = mean(iter1_f2)\n",
    "iter2_f2avg = mean(iter2_f2)\n",
    "\n",
    "iter1_size = [3, 2, 2, 2]\n",
    "iter2_size = [3, 2, 2, 2]\n",
    "iter1_sizeavg = mean(iter1_size)\n",
    "iter2_sizeavg = mean(iter2_size)\n",
    "\n",
    "f2avg = (iter1_f2avg, iter2_f2avg)\n",
    "size = (iter1_sizeavg, iter2_sizeavg)"
   ]
  },
  {
   "cell_type": "code",
   "execution_count": 10,
   "metadata": {},
   "outputs": [
    {
     "data": {
      "image/png": "[encoded data removed]",
      "text/plain": [
       "<Figure size 640x480 with 1 Axes>"
      ]
     },
     "metadata": {},
     "output_type": "display_data"
    }
   ],
   "source": [
    "import matplotlib.pyplot as plt;\n",
    "import numpy as np\n",
    "import matplotlib.pyplot as plt\n",
    "\n",
    "n_groups = 2\n",
    "\n",
    "fig, ax = plt.subplots()\n",
    "index = np.arange(n_groups)\n",
    "bar_width = 0.2\n",
    "opacity = 0.8\n",
    "\n",
    "rects1 = plt.bar(index, f2avg, bar_width,\n",
    "alpha=opacity,\n",
    "color='r',\n",
    "label='F2 Value')\n",
    "\n",
    "rects2 = plt.bar(index + bar_width, size, bar_width,\n",
    "alpha=opacity,\n",
    "color='b',\n",
    "label='Size')\n",
    "\n",
    "plt.xlabel('Iteration')\n",
    "plt.title('Average selected F2 value and F2 layer size')\n",
    "plt.xticks(index + (bar_width/2), ('1st', '2nd'))\n",
    "plt.legend()\n",
    "\n",
    "plt.tight_layout()\n",
    "plt.show()"
   ]
  },
  {
   "cell_type": "code",
   "execution_count": null,
   "metadata": {},
   "outputs": [],
   "source": []
  }
 ],
 "metadata": {
  "kernelspec": {
   "display_name": "Python 3",
   "language": "python",
   "name": "python3"
  },
  "language_info": {
   "codemirror_mode": {
    "name": "ipython",
    "version": 3
   },
   "file_extension": ".py",
   "mimetype": "text/x-python",
   "name": "python",
   "nbconvert_exporter": "python",
   "pygments_lexer": "ipython3",
   "version": "3.7.1"
  }
 },
 "nbformat": 4,
 "nbformat_minor": 2
}
