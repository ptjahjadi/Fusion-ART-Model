{
 "cells": [
  {
   "cell_type": "code",
   "execution_count": 4,
   "metadata": {},
   "outputs": [
    {
     "name": "stdout",
     "output_type": "stream",
     "text": [
      "Code: 0 {'F2': 0, 'weights': [[1.0, 1.0, 1.0, 1.0, 1.0, 1.0, 1.0, 1.0, 1.0, 1.0, 1.0, 1.0, 1.0, 1.0, 1.0, 1.0, 1.0, 1.0], [1.0, 1.0, 1.0, 1.0, 1.0, 1.0, 1.0, 1.0], [1.0, 1.0]]}\n",
      "-----------------------------------------\n",
      "F1: [[0.0, 0.0, 0.0, 0.0, 0.0, 0.0, 0.0, 0.0, 0.0, 0.0, 0.0, 0.0, 0.0, 0.0, 0.0, 0.0, 0.0, 0.0], [0.0, 0.0, 0.0, 0.0, 0.0, 0.0, 0.0, 0.0], [0.0, 0.0]]\n"
     ]
    },
    {
     "data": {
      "text/plain": [
       "[{'name': 'state',\n",
       "  'compl': True,\n",
       "  'attrib': ['s1', 's2', 's3', 's4', 's5', 's6', 's7', 's8', 's9'],\n",
       "  'val': [0.0, 0.0, 0.0, 0.0, 0.0, 0.0, 0.0, 0.0, 0.0],\n",
       "  'vcompl': [0.0, 0.0, 0.0, 0.0, 0.0, 0.0, 0.0, 0.0, 0.0]},\n",
       " {'name': 'action',\n",
       "  'compl': True,\n",
       "  'attrib': ['a1', 'a2', 'a3', 'a4'],\n",
       "  'val': [0.0, 0.0, 0.0, 0.0],\n",
       "  'vcompl': [0.0, 0.0, 0.0, 0.0]},\n",
       " {'name': 'Q', 'compl': True, 'attrib': ['q'], 'val': [0.0], 'vcompl': [0.0]}]"
      ]
     },
     "execution_count": 4,
     "metadata": {},
     "output_type": "execute_result"
    }
   ],
   "source": [
    "from fusionART import *\n",
    "import timeit\n",
    "\n",
    "fa = FusionART(schema=[{'name':'state','compl':True,'attrib':['s1', 's2', 's3', 's4', 's5','s6','s7','s8','s9']},{'name':'action','compl': True, 'attrib':['a1','a2','a3','a4']},{'name':'Q','compl':True,'attrib':['q']}],beta=[1.0,1.0,1.0],alpha=[0.1,0.1,0.1],gamma=[1.0,1.0,1.0],rho=[0.2,0.2,0.5])\n",
    "fa.displayNetwork()\n",
    "fa.F1Fields"
   ]
  },
  {
   "cell_type": "markdown",
   "metadata": {},
   "source": [
    "\"a FusionART object can be created by specifying F1 fields based on schema. Here each F1 field can have a 'name', label for every attribute/element, and set to be complement coded. As shown in the example, the field is populated with values ('val') and their complements ('vcompl') in F1Fields property of the FusionART object. The weights structure and activityF1 follow the specification in the schema.\""
   ]
  },
  {
   "cell_type": "code",
   "execution_count": 21,
   "metadata": {},
   "outputs": [
    {
     "name": "stdout",
     "output_type": "stream",
     "text": [
      "\n",
      "resonance search: \n",
      "selected  0\n",
      "uncommitted\n",
      "Code: 0 {'F2': 0.5190611857278524, 'weights': [[0.0, 0.0, 0.0, 0.0, 1.0, 0.0, 0.0, 0.0, 0.0], [0, 0, 0, 1.0, 0, 0, 0, 0], [0.6, 0.0]]}\n",
      "Code: 1 {'F2': 0, 'weights': [[1, 1, 1, 1, 1, 1, 1, 1, 1], [1, 1, 1, 1, 1, 1, 1, 1], [1, 1]]}\n",
      "-----------------------------------------\n",
      "F1: [[0.0, 0.0, 0.0, 0.0, 1.0, 0.0, 0.0, 0.0, 0.0], [0, 0, 0, 1.0, 0, 0, 0, 0], [0.6, 0.0]]\n",
      "Time:  1.2697000000230219\n"
     ]
    }
   ],
   "source": [
    "start = timeit.default_timer()\n",
    "\n",
    "print(\"\")\n",
    "fa.updateF1bySchema([{'name':'state', 'val':[0.0, 0.0, 0.0, 0.0, 1.0, 0.0, 0.0, 0.0, 0.0]},{'name':'action', 'val':[0,0,0,1.0], 'vcompl':[0,0,0,0]},{'name':'Q','val':[0.6]}], refresh = False)\n",
    "print(\"resonance search: \")\n",
    "J = fa.resSearch(mtrack=[0])\n",
    "print(\"selected \", J)\n",
    "if fa.uncommitted(J):\n",
    "\tprint ('uncommitted')\n",
    "fa.autoLearn(J)\n",
    "fa.displayNetwork()\n",
    "\n",
    "stop = timeit.default_timer()\n",
    "\n",
    "print('Time: ', (stop - start) * 1000)"
   ]
  },
  {
   "cell_type": "code",
   "execution_count": 17,
   "metadata": {},
   "outputs": [
    {
     "name": "stdout",
     "output_type": "stream",
     "text": [
      "\n",
      "Code: 0 {'F2': 2.7937915742793793, 'weights': [[0.0, 0.0, 0.0, 0.0, 1.0, 0.0, 0.0, 0.0, 0.0], [0, 0, 0, 1.0, 1, 1, 1, 0.0], [0.6, 0.4]]}\n",
      "Code: 1 {'F2': 1.0799077465744134, 'weights': [[1, 1, 1, 1, 1, 1, 1, 1, 1], [1, 1, 1, 1, 1, 1, 1, 1], [1, 1]]}\n",
      "-----------------------------------------\n",
      "F1: [[0.0, 0.0, 0.0, 0.0, 1.0, 0.0, 0.0, 0.0, 0.0], [0, 0, 0, 1.0, 1, 1, 1, 0.0], [0.6, 0.4]]\n",
      "Time:  0.645099999999843\n"
     ]
    }
   ],
   "source": [
    "start = timeit.default_timer()\n",
    "\n",
    "print(\"\")\n",
    "fa.updateF1bySchema([{'name':'state', 'val':[0.0, 0.0, 0.0, 0.0, 1.0, 0.0, 0.0, 0.0, 0.0]},{'name':'action', 'val':[0,0,0,1.0], 'vcompl':[0,0,0,0]},{'name':'Q','val':[0.6]}])\n",
    "fa.compChoice()\n",
    "fa.displayNetwork()\n",
    "\n",
    "stop = timeit.default_timer()\n",
    "\n",
    "print('Time: ', (stop - start) * 1000)"
   ]
  },
  {
   "cell_type": "code",
   "execution_count": 10,
   "metadata": {},
   "outputs": [
    {
     "data": {
      "text/plain": [
       "[{'name': 'state',\n",
       "  'compl': False,\n",
       "  'attrib': ['s1', 's2', 's3', 's4', 's5', 's6', 's7', 's8', 's9'],\n",
       "  'val': [0.0, 0.0, 0.0, 0.0, 1.0, 0.0, 0.0, 0.0, 0.0]},\n",
       " {'name': 'action',\n",
       "  'compl': True,\n",
       "  'attrib': ['a1', 'a2', 'a3', 'a4'],\n",
       "  'val': [0, 0, 0, 1.0],\n",
       "  'vcompl': [1, 1, 1, 0.0]},\n",
       " {'name': 'Q', 'compl': True, 'attrib': ['q'], 'val': [0.6], 'vcompl': [0.4]}]"
      ]
     },
     "execution_count": 10,
     "metadata": {},
     "output_type": "execute_result"
    }
   ],
   "source": [
    "fa.F1Fields"
   ]
  },
  {
   "cell_type": "markdown",
   "metadata": {},
   "source": [
    "\"The input can also be specified and provided as a schema using 'updateF1bySchema' method. The complemented values can be filled up automatically as specified in the schema. Given the input, the resonance search can be conducted to select a node J in to learn as normal\""
   ]
  },
  {
   "cell_type": "code",
   "execution_count": 11,
   "metadata": {},
   "outputs": [
    {
     "name": "stdout",
     "output_type": "stream",
     "text": [
      "resonance search: \n",
      "selected  1\n",
      "uncommitted\n",
      "Code: 0 {'F2': 0, 'weights': [[0.0, 0.0, 0.0, 0.0, 1.0, 0.0, 0.0, 0.0, 0.0], [0, 0, 0, 1.0, 1, 1, 1, 0.0], [0.6, 0.4]]}\n",
      "Code: 1 {'F2': 1.0799077465744134, 'weights': [[0.0, 0.0, 0.0, 0.0, 0.0, 0.0, 0.0, 0.0, 1.0], [0, 0, 0, 1.0, 1, 1, 1, 0.0], [0.6, 0.4]]}\n",
      "Code: 2 {'F2': 0, 'weights': [[1, 1, 1, 1, 1, 1, 1, 1, 1], [1, 1, 1, 1, 1, 1, 1, 1], [1, 1]]}\n",
      "-----------------------------------------\n",
      "F1: [[0.0, 0.0, 0.0, 0.0, 0.0, 0.0, 0.0, 0.0, 1.0], [0, 0, 0, 1.0, 1, 1, 1, 0.0], [0.6, 0.4]]\n",
      "Time:  2.9365999999981796\n"
     ]
    }
   ],
   "source": [
    "start = timeit.default_timer()\n",
    "fa.updateF1bySchema([{'name':'state', 'val':[0.0, 0.0, 0.0, 0.0, 0.0, 0.0, 0.0, 0.0, 1.0]},{'name':'action', 'val':[0,0,0,1.0]},{'name':'Q','val':[0.6]}])\n",
    "print(\"resonance search: \")\n",
    "J = fa.resSearch(mtrack=[0])\n",
    "print(\"selected \", J)\n",
    "if fa.uncommitted(J):\n",
    "\tprint('uncommitted')\n",
    "fa.autoLearn(J)\n",
    "fa.displayNetwork()\n",
    "\n",
    "\n",
    "stop = timeit.default_timer()\n",
    "\n",
    "print('Time: ', (stop - start) * 1000)"
   ]
  },
  {
   "cell_type": "code",
   "execution_count": 109,
   "metadata": {},
   "outputs": [
    {
     "data": {
      "text/plain": [
       "[{'name': 'state',\n",
       "  'compl': True,\n",
       "  'attrib': ['s1', 's2', 's3', 's4', 's5', 's6', 's7', 's8', 's9'],\n",
       "  'val': [0.0, 0.0, 0.0, 0.0, 0.0, 0.0, 0.0, 0.0, 1.0],\n",
       "  'vcompl': [1.0, 1.0, 1.0, 1.0, 1.0, 1.0, 1.0, 1.0, 0.0]},\n",
       " {'name': 'action',\n",
       "  'attrib': ['a1', 'a2', 'a3', 'a4'],\n",
       "  'compl': False,\n",
       "  'val': [0, 0, 0, 1.0]},\n",
       " {'name': 'Q', 'compl': True, 'attrib': ['q'], 'val': [0.6], 'vcompl': [0.4]}]"
      ]
     },
     "execution_count": 109,
     "metadata": {},
     "output_type": "execute_result"
    }
   ],
   "source": [
    "fa.F1Fields"
   ]
  },
  {
   "cell_type": "code",
   "execution_count": 96,
   "metadata": {},
   "outputs": [
    {
     "name": "stdout",
     "output_type": "stream",
     "text": [
      "resonance search: \n",
      "selected  0\n",
      "Code: 0 {'F2': 2.6632522407170294, 'weights': [[0.0, 0.0, 0.0, 0.0, 0.0, 0.0, 0.0, 0.0, 0.0, 0.0, 1.0, 1.0, 1.0, 0.0, 1.0, 1.0, 1.0, 0.0], [0.0, 0.0, 0.0, 1.0], [0.6, 0.4]]}\n",
      "Code: 1 {'F2': 1.2173304842756398, 'weights': [[1, 1, 1, 1, 1, 1, 1, 1, 1, 1, 1, 1, 1, 1, 1, 1, 1, 1], [1, 1, 1, 1], [1, 1]]}\n",
      "-----------------------------------------\n",
      "F1: [[1.0, 0.0, 0.0, 0.0, 0.0, 0.0, 0.0, 0.0, 0.0, 0.0, 1.0, 1.0, 1.0, 1.0, 1.0, 1.0, 1.0, 1.0], [0, 0, 0, 1], [0.6, 0.4]]\n",
      "Time:  1.5155000000959262\n"
     ]
    }
   ],
   "source": [
    "start = timeit.default_timer()\n",
    "fa.updateF1bySchema([{'name':'state', 'val':[1.0, 0.0, 0.0, 0.0, 0.0, 0.0, 0.0, 0.0, 0.0]},{'name':'action', 'val':[0,0,0,1]},{'name':'Q','val':[0.6]}])\n",
    "print(\"resonance search: \")\n",
    "J = fa.resSearch(mtrack=[0])\n",
    "print(\"selected \", J)\n",
    "if fa.uncommitted(J):\n",
    "\tprint('uncommitted')\n",
    "fa.autoLearn(J)\n",
    "fa.displayNetwork()\n",
    "\n",
    "\n",
    "stop = timeit.default_timer()\n",
    "\n",
    "print('Time: ', (stop - start) * 1000)"
   ]
  },
  {
   "cell_type": "code",
   "execution_count": null,
   "metadata": {},
   "outputs": [],
   "source": []
  },
  {
   "cell_type": "code",
   "execution_count": null,
   "metadata": {},
   "outputs": [],
   "source": []
  },
  {
   "cell_type": "code",
   "execution_count": null,
   "metadata": {},
   "outputs": [],
   "source": []
  },
  {
   "cell_type": "code",
   "execution_count": 7,
   "metadata": {},
   "outputs": [
    {
     "name": "stdout",
     "output_type": "stream",
     "text": [
      "\n",
      "set F1 by schema  [{'name': 'state', 'val': [1.0, 0.0]}, {'name': 'action', 'val': [0, 0, 0, 1.0]}, {'name': 'Q', 'val': [0.6]}]\n",
      "resonance search: \n",
      "selected  0\n",
      "Code: 0 {'F2': 2.7705627705627704, 'weights': [[1.0, 0.0, 0.0, 1.0], [0.0, 0.0, 0.0, 1.0], [0.6, 0.4]]}\n",
      "Code: 1 {'F2': 0.6363636363636362, 'weights': [[0.0, 1.0, 1.0, 0.0], [1.0, 0.0, 0.0, 0.0], [0.3, 0.7]]}\n",
      "Code: 2 {'F2': 1.207897793263647, 'weights': [[1, 1, 1, 1], [1, 1, 1, 1], [1, 1]]}\n",
      "-----------------------------------------\n",
      "F1: [[1.0, 0.0, 0.0, 1.0], [0, 0, 0, 1.0], [0.6, 0.4]]\n",
      "Time:  1.68279999996912\n"
     ]
    }
   ],
   "source": [
    "start = timeit.default_timer()\n",
    "\n",
    "print(\"\")\n",
    "fa.updateF1bySchema([{'name':'state', 'val':[1.0,0.0]},{'name':'action', 'val':[0,0,0,1.0]},{'name':'Q','val':[0.6]}])\n",
    "print(\"set F1 by schema \", [{'name':'state', 'val':[1.0,0.0]},{'name':'action', 'val':[0,0,0,1.0]},{'name':'Q','val':[0.6]}])\n",
    "print(\"resonance search: \")\n",
    "J = fa.resSearch(mtrack=[0])\n",
    "print(\"selected \", J)\n",
    "if fa.uncommitted(J):\n",
    "\tprint('uncommitted')\n",
    "fa.autoLearn(J)\n",
    "fa.displayNetwork()\n",
    "\n",
    "stop = timeit.default_timer()\n",
    "\n",
    "print('Time: ', (stop - start) * 1000)"
   ]
  },
  {
   "cell_type": "markdown",
   "metadata": {},
   "source": [
    "\"The resonance search can be conducted iteratively many times to store or match the inputs.\" "
   ]
  },
  {
   "cell_type": "code",
   "execution_count": 4,
   "metadata": {},
   "outputs": [
    {
     "name": "stdout",
     "output_type": "stream",
     "text": [
      "after topdown readout of activityF1 to F1 fields\n",
      "F1 Fields:  [{'name': 'state', 'compl': True, 'attrib': ['s1', 's2'], 'val': [1.0, 0.0], 'vcompl': [0.0, 1.0]}, {'name': 'action', 'attrib': ['a1', 'a2', 'a3', 'a4'], 'compl': False, 'val': [0, 0, 0, 1.0]}, {'name': 'Q', 'compl': True, 'attrib': ['q'], 'val': [0.6], 'vcompl': [0.4]}]\n"
     ]
    }
   ],
   "source": [
    "fa.TopDownF1()\n",
    "print(\"after topdown readout of activityF1 to F1 fields\")\n",
    "print(\"F1 Fields: \", fa.F1Fields)"
   ]
  },
  {
   "cell_type": "markdown",
   "metadata": {},
   "source": [
    "\"any update on activityF1 of the FusionART object will not automatically reflect on the schema 'F1Fields'. 'TopDownF1' method should be called to update the schema 'F1Fields' according to 'activityF1'.\""
   ]
  },
  {
   "cell_type": "code",
   "execution_count": 9,
   "metadata": {},
   "outputs": [
    {
     "name": "stdout",
     "output_type": "stream",
     "text": [
      "set F1 by schema  [{'name': 'state', 'compl': True, 'val': [0.0, 1.0]}, {'name': 'action', 'val': [1.0, 0, 0, 0]}, {'name': 'Q', 'compl': True, 'val': [0.3]}]\n",
      "resonance search: \n",
      "selected  1\n",
      "Code: 0 {'F2': 0.6363636363636362, 'weights': [[1.0, 0.0, 0.0, 1.0], [0.0, 0.0, 0.0, 1.0], [0.6, 0.4]]}\n",
      "Code: 1 {'F2': 2.7705627705627704, 'weights': [[0.0, 1.0, 1.0, 0.0], [1.0, 0.0, 0.0, 0.0], [0.3, 0.7]]}\n",
      "Code: 2 {'F2': 1.207897793263647, 'weights': [[1, 1, 1, 1], [1, 1, 1, 1], [1, 1]]}\n",
      "-----------------------------------------\n",
      "F1: [[0.0, 1.0, 1.0, 0.0], [1.0, 0, 0, 0], [0.3, 0.7]]\n",
      "Time:  1.0545000000092841\n"
     ]
    }
   ],
   "source": [
    "start = timeit.default_timer()\n",
    "fa.updateF1bySchema([{'name':'state', 'compl': True, 'val':[0.0,1.0]},{'name':'action', 'val':[1.0,0,0,0]},{'name':'Q', 'compl': True, 'val':[0.3]}])\n",
    "print(\"set F1 by schema \", [{'name':'state', 'compl': True, 'val':[0.0,1.0]},{'name':'action', 'val':[1.0,0,0,0]},{'name':'Q', 'compl': True, 'val':[0.3]}])\n",
    "print(\"resonance search: \")\n",
    "J = fa.resSearch(mtrack=[0])\n",
    "print(\"selected \", J)\n",
    "if fa.uncommitted(J):\n",
    "\tprint('uncommitted')\n",
    "fa.autoLearn(J)\n",
    "fa.displayNetwork()\n",
    "\n",
    "\n",
    "stop = timeit.default_timer()\n",
    "\n",
    "print('Time: ', (stop - start) * 1000)"
   ]
  },
  {
   "cell_type": "code",
   "execution_count": 10,
   "metadata": {},
   "outputs": [
    {
     "name": "stdout",
     "output_type": "stream",
     "text": [
      "\n",
      "set F1 by schema  [{'name': 'state', 'val': [1.0, 1.0]}, {'name': 'action', 'val': [1.0, 1.0, 1.0]}, {'name': 'Q', 'val': [1.0]}]\n",
      "resonance search: \n",
      "selected  1\n",
      "Code: 0 {'F2': 1.1125541125541125, 'weights': [[1.0, 0.0, 0.0, 1.0], [0.0, 0.0, 0.0, 1.0], [0.6, 0.4]]}\n",
      "Code: 1 {'F2': 2.294372294372294, 'weights': [[0.0, 1.0, 0.0, 0.0], [1.0, 0.0, 0.0, 0.0], [0.3, 0.7]]}\n",
      "Code: 2 {'F2': 1.207897793263647, 'weights': [[1, 1, 1, 1], [1, 1, 1, 1], [1, 1]]}\n",
      "-----------------------------------------\n",
      "F1: [[1.0, 1.0, 0.0, 0.0], [1.0, 0, 0, 0], [0.3, 0.7]]\n",
      "Time:  1.5237000000070111\n"
     ]
    }
   ],
   "source": [
    "start = timeit.default_timer()\n",
    "\n",
    "print(\"\")\n",
    "fa.updateF1bySchema([{'name':'state', 'val':[1.0,1.0]}])\n",
    "print(\"set F1 by schema \", [{'name':'state', 'val':[1.0,1.0]},{'name':'action', 'val':[1.0,1.0,1.0]},{'name':'Q','val':[1.0]}])\n",
    "print(\"resonance search: \")\n",
    "J = fa.resSearch(mtrack=[0])\n",
    "print(\"selected \", J)\n",
    "if fa.uncommitted(J):\n",
    "\tprint('uncommitted')\n",
    "fa.autoLearn(J)\n",
    "fa.displayNetwork()\n",
    "\n",
    "stop = timeit.default_timer()\n",
    "\n",
    "print('Time: ', (stop - start) * 1000)"
   ]
  },
  {
   "cell_type": "code",
   "execution_count": 7,
   "metadata": {},
   "outputs": [],
   "source": [
    "from statistics import mean\n",
    "iter1_f2 = [1.2079, 1.2079, 2.41954]\n",
    "iter2_f2 = [2.77056, 2.77056, 2.85244]\n",
    "iter3_f2 = [2.77056, 2.77056, 2.85244]\n",
    "iter1_f2avg = mean(iter1_f2)\n",
    "iter2_f2avg = mean(iter2_f2)\n",
    "iter3_f2avg = mean(iter3_f2)\n",
    "\n",
    "iter1_size = [3, 3, 3]\n",
    "iter2_size = [3, 3, 3]\n",
    "iter3_size = [3, 3, 3]\n",
    "iter1_sizeavg = mean(iter1_size)\n",
    "iter2_sizeavg = mean(iter2_size)\n",
    "iter3_sizeavg = mean(iter3_size)\n",
    "\n",
    "f2avg = (iter1_f2avg, iter2_f2avg, iter3_f2avg)\n",
    "size = (iter1_sizeavg, iter2_sizeavg, iter3_sizeavg)"
   ]
  },
  {
   "cell_type": "code",
   "execution_count": 10,
   "metadata": {},
   "outputs": [
    {
     "data": {
      "image/png": "[encoded data removed]",
      "text/plain": [
       "<Figure size 432x288 with 1 Axes>"
      ]
     },
     "metadata": {
      "needs_background": "light"
     },
     "output_type": "display_data"
    }
   ],
   "source": [
    "import matplotlib.pyplot as plt; \n",
    "import numpy as np\n",
    "import matplotlib.pyplot as plt\n",
    "\n",
    "n_groups = 3\n",
    "\n",
    "fig, ax = plt.subplots()\n",
    "index = np.arange(n_groups)\n",
    "bar_width = 0.2\n",
    "opacity = 0.8\n",
    "\n",
    "rects1 = plt.bar(index, f2avg, bar_width,\n",
    "alpha=opacity,\n",
    "color='r',\n",
    "label='F2 Value')\n",
    "\n",
    "rects2 = plt.bar(index + bar_width, size, bar_width,\n",
    "alpha=opacity,\n",
    "color='b',\n",
    "label='Size')\n",
    "\n",
    "plt.xlabel('Iteration')\n",
    "plt.title('Average selected F2 value and F2 layer size')\n",
    "plt.xticks(index + (bar_width/2), ('1st', '2nd', '3rd'))\n",
    "plt.legend()\n",
    "\n",
    "plt.tight_layout()\n",
    "plt.show()"
   ]
  },
  {
   "cell_type": "code",
   "execution_count": null,
   "metadata": {},
   "outputs": [],
   "source": []
  }
 ],
 "metadata": {
  "kernelspec": {
   "display_name": "Python 3",
   "language": "python",
   "name": "python3"
  },
  "language_info": {
   "codemirror_mode": {
    "name": "ipython",
    "version": 3
   },
   "file_extension": ".py",
   "mimetype": "text/x-python",
   "name": "python",
   "nbconvert_exporter": "python",
   "pygments_lexer": "ipython3",
   "version": "3.7.1"
  }
 },
 "nbformat": 4,
 "nbformat_minor": 2
}
