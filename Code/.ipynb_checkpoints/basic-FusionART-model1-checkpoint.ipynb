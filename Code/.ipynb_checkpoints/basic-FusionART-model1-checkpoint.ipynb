{
 "cells": [
  {
   "cell_type": "code",
   "execution_count": 1,
   "metadata": {},
   "outputs": [
    {
     "name": "stdout",
     "output_type": "stream",
     "text": [
      "Code: 0 {'F2': 0, 'weights': [[1.0, 1.0, 1.0, 1.0], [1.0, 1.0, 1.0, 1.0], [1.0, 1.0]]}\n",
      "-----------------------------------------\n",
      "F1: [[0.0, 0.0, 0.0, 0.0], [0.0, 0.0, 0.0, 0.0], [0.0, 0.0]]\n"
     ]
    }
   ],
   "source": [
    "from fusionART import *\n",
    "import timeit\n",
    "\n",
    "fa = FusionART(numspace=3,lengths=[4,4,2],beta=[1.0,1.0,1.0],alpha=[0.1,0.1,0.1],gamma=[1.0,1.0,1.0],rho=[0.2,0.2,0.5])\n",
    "fa.displayNetwork()"
   ]
  },
  {
   "cell_type": "markdown",
   "metadata": {},
   "source": [
    "\"a FusionART object can be created with by specifying the number of F1 fields (numspace), length of each field (lengths), beta, alpha, gamma, and rho parameters for every field.\""
   ]
  },
  {
   "cell_type": "code",
   "execution_count": 6,
   "metadata": {},
   "outputs": [
    {
     "name": "stdout",
     "output_type": "stream",
     "text": [
      "set ActivityF1 to  [[1.0, 0, 0, 1.0], [0, 0, 0, 1.0], [0.6, 0.4]]\n"
     ]
    }
   ],
   "source": [
    "fa.setActivityF1([[1.0,0,0,1.0],[0,0,0,1.0],[0.6,0.4]])\n",
    "print(\"set ActivityF1 to \", fa.activityF1)"
   ]
  },
  {
   "cell_type": "markdown",
   "metadata": {},
   "source": [
    "\"setActivityF1 method is to provide the input to every F1 field of fa. It will store the value to activityF1 property of fa\" "
   ]
  },
  {
   "cell_type": "markdown",
   "metadata": {},
   "source": [
    "\"resonance search (resSearch) is to select a node in F2. In this case, J is the index of the selected node in F2 (let's ignore the mtrack argument for a while). The node selected can uncommitted which mean it failed to find a matching code in F2. It's checked with uncommitted method. Once the node J is selected, the input vectors in F1 can be learned to associate with J with autoLearn method. The structure of the network can be shown by displayNetwork method.\" "
   ]
  },
  {
   "cell_type": "code",
   "execution_count": 8,
   "metadata": {},
   "outputs": [
    {
     "name": "stdout",
     "output_type": "stream",
     "text": [
      "resonance search: \n",
      "selected  0\n",
      "Code: 0 {'F2': 2.7705627705627704, 'weights': [[1.0, 0.0, 0.0, 1.0], [0.0, 0.0, 0.0, 1.0], [0.6, 0.4]]}\n",
      "Code: 1 {'F2': 1.207897793263647, 'weights': [[1, 1, 1, 1], [1, 1, 1, 1], [1, 1]]}\n",
      "-----------------------------------------\n",
      "F1: [[1.0, 0, 0, 1.0], [0, 0, 0, 1.0], [0.6, 0.4]]\n",
      "Time:  1.0896999999658874\n"
     ]
    }
   ],
   "source": [
    "start = timeit.default_timer()\n",
    "\n",
    "print(\"resonance search: \")\n",
    "J = fa.resSearch(mtrack=[0])\n",
    "print(\"selected \", J)\n",
    "if fa.uncommitted(J):\n",
    "\tprint ('uncommitted')\n",
    "fa.autoLearn(J)\n",
    "fa.displayNetwork()\n",
    "\n",
    "stop = timeit.default_timer()\n",
    "\n",
    "print('Time: ', (stop - start) * 1000)"
   ]
  },
  {
   "cell_type": "code",
   "execution_count": 10,
   "metadata": {},
   "outputs": [
    {
     "name": "stdout",
     "output_type": "stream",
     "text": [
      "set ActivityF1 to  [[0, 1.0, 1.0, 0], [1.0, 0, 0, 0], [0.3, 0.7]]\n",
      "resonance search: \n",
      "selected  1\n",
      "Code: 0 {'F2': 0.6363636363636362, 'weights': [[1.0, 0.0, 0.0, 1.0], [0.0, 0.0, 0.0, 1.0], [0.6, 0.4]]}\n",
      "Code: 1 {'F2': 2.7705627705627704, 'weights': [[0.0, 1.0, 1.0, 0.0], [1.0, 0.0, 0.0, 0.0], [0.3, 0.7]]}\n",
      "Code: 2 {'F2': 1.207897793263647, 'weights': [[1, 1, 1, 1], [1, 1, 1, 1], [1, 1]]}\n",
      "-----------------------------------------\n",
      "F1: [[0, 1.0, 1.0, 0], [1.0, 0, 0, 0], [0.3, 0.7]]\n",
      "Time:  1.5692000001763518\n"
     ]
    }
   ],
   "source": [
    "start = timeit.default_timer()\n",
    "\n",
    "fa.setActivityF1([[0,1.0,1.0,0],[1.0,0,0,0],[0.3,0.7]])\n",
    "print(\"set ActivityF1 to \", fa.activityF1)\n",
    "print(\"resonance search: \")\n",
    "J = fa.resSearch(mtrack=[0])\n",
    "print(\"selected \", J)\n",
    "if fa.uncommitted(J):\n",
    "\tprint('uncommitted')\n",
    "fa.autoLearn(J)\n",
    "fa.displayNetwork()\n",
    "\n",
    "stop = timeit.default_timer()\n",
    "\n",
    "print('Time: ', (stop - start) * 1000)\n",
    "\n"
   ]
  },
  {
   "cell_type": "markdown",
   "metadata": {},
   "source": [
    "\"Different input patterns can be given subsequently to retrieve nodes or to be stored in the network as shown\""
   ]
  },
  {
   "cell_type": "code",
   "execution_count": 6,
   "metadata": {},
   "outputs": [
    {
     "name": "stdout",
     "output_type": "stream",
     "text": [
      "\n",
      "set ActivityF1 to  [[1.0, 0, 0, 1.0], [0, 0, 0, 0], [0.5, 0.5]]\n",
      "resonance search: \n",
      "selected  0\n",
      "Code: 0 {'F2': 1.8523809523809525, 'weights': [[1.0, 0.0, 0.0, 1.0], [0.0, 0.0, 0.0, 0.0], [0.5, 0.4]]}\n",
      "Code: 1 {'F2': 0.9639953542392568, 'weights': [[1, 1, 1, 1], [1, 1, 1, 1], [1, 1]]}\n",
      "-----------------------------------------\n",
      "F1: [[1.0, 0, 0, 1.0], [0, 0, 0, 0], [0.5, 0.5]]\n",
      "Time:  1.350300000002136\n"
     ]
    }
   ],
   "source": [
    "start = timeit.default_timer()\n",
    "print(\"\")\n",
    "fa.setActivityF1([[1.0,0,0,1.0],[0,0,0,0],[0.5,0.5]])\n",
    "print(\"set ActivityF1 to \", fa.activityF1)\n",
    "print(\"resonance search: \")\n",
    "J = fa.resSearch(mtrack=[0])\n",
    "print(\"selected \", J)\n",
    "if fa.uncommitted(J):\n",
    "\tprint('uncommitted')\n",
    "fa.autoLearn(J)\n",
    "fa.displayNetwork()\n",
    "\n",
    "stop = timeit.default_timer()\n",
    "\n",
    "print('Time: ', (stop - start) * 1000)"
   ]
  },
  {
   "cell_type": "code",
   "execution_count": 6,
   "metadata": {},
   "outputs": [
    {
     "name": "stdout",
     "output_type": "stream",
     "text": [
      "\n",
      "set ActivityF1 to  [[0, 1, 1, 0], [0.5, 0.5, 0.5, 0.5], [0.5, 0.5]]\n",
      "resonance search: \n",
      "selected  1\n",
      "Code: 0 {'F2': 1.2727272727272727, 'weights': [[1.0, 0.0, 0.0, 1.0], [0.0, 0.0, 0.0, 1.0], [0.6, 0.4]]}\n",
      "Code: 1 {'F2': 2.813852813852814, 'weights': [[0.0, 1.0, 1.0, 0.0], [0.5, 0.5, 0.5, 0.5], [0.5, 0.5]]}\n",
      "Code: 2 {'F2': 1.4518002322880372, 'weights': [[1, 1, 1, 1], [1, 1, 1, 1], [1, 1]]}\n",
      "-----------------------------------------\n",
      "F1: [[0, 1, 1, 0], [0.5, 0.5, 0.5, 0.5], [0.5, 0.5]]\n",
      "Time:  1.27660000000418\n"
     ]
    }
   ],
   "source": [
    "start = timeit.default_timer()\n",
    "print(\"\")\n",
    "fa.setActivityF1([[0,1,1,0],[0.5,0.5,0.5,0.5],[0.5,0.5]])\n",
    "print(\"set ActivityF1 to \", fa.activityF1)\n",
    "print(\"resonance search: \")\n",
    "J = fa.resSearch(mtrack=[0])\n",
    "print(\"selected \", J)\n",
    "if fa.uncommitted(J):\n",
    "\tprint('uncommitted')\n",
    "fa.autoLearn(J)\n",
    "fa.displayNetwork()\n",
    "\n",
    "stop = timeit.default_timer()\n",
    "\n",
    "print('Time: ', (stop - start) * 1000)"
   ]
  },
  {
   "cell_type": "code",
   "execution_count": 7,
   "metadata": {},
   "outputs": [
    {
     "name": "stdout",
     "output_type": "stream",
     "text": [
      "\n",
      "set ActivityF1 to  [[1, 1, 1, 1], [1, 1, 1, 1], [1, 1]]\n",
      "resonance search: \n",
      "selected  1\n",
      "uncommitted\n",
      "Code: 0 {'F2': 2.7705627705627704, 'weights': [[1.0, 0.0, 0.0, 1.0], [0.0, 0.0, 0.0, 1.0], [0.6, 0.4]]}\n",
      "Code: 1 {'F2': 2.9036004645760745, 'weights': [[1, 1, 1, 1], [1, 1, 1, 1], [1, 1]]}\n",
      "Code: 2 {'F2': 2.9036004645760745, 'weights': [[1, 1, 1, 1], [1, 1, 1, 1], [1, 1]]}\n",
      "Code: 3 {'F2': 2.9036004645760745, 'weights': [[1, 1, 1, 1], [1, 1, 1, 1], [1, 1]]}\n",
      "Code: 4 {'F2': 0, 'weights': [[1, 1, 1, 1], [1, 1, 1, 1], [1, 1]]}\n",
      "-----------------------------------------\n",
      "F1: [[1, 1, 1, 1], [1, 1, 1, 1], [1, 1]]\n",
      "Time:  1.6369000000011624\n"
     ]
    }
   ],
   "source": [
    "start = timeit.default_timer()\n",
    "print(\"\")\n",
    "fa.setActivityF1([[1,1,1,1],[1,1,1,1],[1,1]])\n",
    "print(\"set ActivityF1 to \", fa.activityF1)\n",
    "print(\"resonance search: \")\n",
    "J = fa.resSearch(mtrack=[0])\n",
    "print(\"selected \", J)\n",
    "if fa.uncommitted(J):\n",
    "\tprint('uncommitted')\n",
    "fa.autoLearn(J)\n",
    "fa.displayNetwork()\n",
    "\n",
    "stop = timeit.default_timer()\n",
    "\n",
    "print('Time: ', (stop - start) * 1000)"
   ]
  },
  {
   "cell_type": "code",
   "execution_count": 57,
   "metadata": {},
   "outputs": [],
   "source": [
    "from statistics import mean\n",
    "iter1_f2 = [1.2079, 1.7706, 1.4518, 2.9036]\n",
    "iter2_f2 = [2.77056, 1.8524, 2.81385, 2.9036]\n",
    "iter1_f2avg = mean(iter1_f2)\n",
    "iter2_f2avg = mean(iter2_f2)\n",
    "\n",
    "iter1_size = [3, 2, 3, 3]\n",
    "iter2_size = [3, 2, 3, 4]\n",
    "iter1_sizeavg = mean(iter1_size)\n",
    "iter2_sizeavg = mean(iter2_size)\n",
    "\n",
    "f2avg = (iter1_f2avg, iter2_f2avg)\n",
    "size = (iter1_sizeavg, iter2_sizeavg)\n"
   ]
  },
  {
   "cell_type": "code",
   "execution_count": 62,
   "metadata": {},
   "outputs": [
    {
     "data": {
      "image/png": "[encoded data removed]",
      "text/plain": [
       "<Figure size 640x480 with 1 Axes>"
      ]
     },
     "metadata": {},
     "output_type": "display_data"
    }
   ],
   "source": [
    "import matplotlib.pyplot as plt;\n",
    "import numpy as np\n",
    "import matplotlib.pyplot as plt\n",
    "\n",
    "n_groups = 2\n",
    "\n",
    "fig, ax = plt.subplots()\n",
    "index = np.arange(n_groups)\n",
    "bar_width = 0.2\n",
    "opacity = 0.8\n",
    "\n",
    "rects1 = plt.bar(index, f2avg, bar_width,\n",
    "alpha=opacity,\n",
    "color='r',\n",
    "label='F2 Value')\n",
    "\n",
    "rects2 = plt.bar(index + bar_width, size, bar_width,\n",
    "alpha=opacity,\n",
    "color='b',\n",
    "label='Size')\n",
    "\n",
    "plt.xlabel('Iteration')\n",
    "plt.title('Average selected F2 value and F2 layer size')\n",
    "plt.xticks(index + (bar_width/2), ('1st', '2nd'))\n",
    "plt.legend()\n",
    "\n",
    "plt.tight_layout()\n",
    "plt.show()"
   ]
  },
  {
   "cell_type": "code",
   "execution_count": null,
   "metadata": {},
   "outputs": [],
   "source": []
  }
 ],
 "metadata": {
  "kernelspec": {
   "display_name": "Python 3",
   "language": "python",
   "name": "python3"
  },
  "language_info": {
   "codemirror_mode": {
    "name": "ipython",
    "version": 3
   },
   "file_extension": ".py",
   "mimetype": "text/x-python",
   "name": "python",
   "nbconvert_exporter": "python",
   "pygments_lexer": "ipython3",
   "version": "3.7.1"
  }
 },
 "nbformat": 4,
 "nbformat_minor": 2
}
